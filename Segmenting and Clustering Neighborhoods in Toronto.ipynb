{
    "nbformat_minor": 1, 
    "cells": [
        {
            "source": "# Segmenting and Clustering of the Neighborhoods of Toronto", 
            "cell_type": "markdown", 
            "metadata": {
                "collapsed": true
            }
        }, 
        {
            "source": "The data are on a Wikipedia table, at https://en.wikipedia.org/wiki/List_of_postal_codes_of_Canada:_M\n\nWeb scraping --> I will use the Beautiful Soup library to get the data from the table", 
            "cell_type": "markdown", 
            "metadata": {}
        }, 
        {
            "source": "# import the request library\nimport requests\nfrom bs4 import BeautifulSoup\n\nurl = 'https://en.wikipedia.org/wiki/List_of_postal_codes_of_Canada:_M'\nwebsite_url = requests.get(url).text\n\n# Prettify() function in BeautifulSoup will enable us to view how the tags are nested in the document\nsoup = BeautifulSoup(website_url,'lxml')\n# print just few characters to see how it looks like\nprint(soup.prettify()[:1000])", 
            "cell_type": "code", 
            "metadata": {}, 
            "outputs": [
                {
                    "output_type": "stream", 
                    "name": "stdout", 
                    "text": "<!DOCTYPE html>\n<html class=\"client-nojs\" dir=\"ltr\" lang=\"en\">\n <head>\n  <meta charset=\"utf-8\"/>\n  <title>\n   List of postal codes of Canada: M - Wikipedia\n  </title>\n  <script>\n   document.documentElement.className = document.documentElement.className.replace( /(^|\\s)client-nojs(\\s|$)/, \"$1client-js$2\" );\n  </script>\n  <script>\n   (window.RLQ=window.RLQ||[]).push(function(){mw.config.set({\"wgCanonicalNamespace\":\"\",\"wgCanonicalSpecialPageName\":false,\"wgNamespaceNumber\":0,\"wgPageName\":\"List_of_postal_codes_of_Canada:_M\",\"wgTitle\":\"List of postal codes of Canada: M\",\"wgCurRevisionId\":876823784,\"wgRevisionId\":876823784,\"wgArticleId\":539066,\"wgIsArticle\":true,\"wgIsRedirect\":false,\"wgAction\":\"view\",\"wgUserName\":null,\"wgUserGroups\":[\"*\"],\"wgCategories\":[\"Communications in Ontario\",\"Postal codes in Canada\",\"Toronto\",\"Ontario-related lists\"],\"wgBreakFrames\":false,\"wgPageContentLanguage\":\"en\",\"wgPageContentModel\":\"wikitext\",\"wgSeparatorTransformTable\":[\"\",\"\"],\"wgDigitTransformTable\":[\"\",\"\"],\"wg\n"
                }
            ], 
            "execution_count": 173
        }, 
        {
            "source": "### Extract the table using the soup.find. Then, extract all the <td> ... </td> which contain the postcodes, boroughs and neighborhoods", 
            "cell_type": "markdown", 
            "metadata": {}
        }, 
        {
            "source": "# extract the table\nmytable = soup.find('table',{'class':'wikitable sortable'})\n# extract the rows that start with <td>\ntdALL   = mytable.find_all('td')\n# print the first 5 just to check\nprint(tdALL[:5])", 
            "cell_type": "code", 
            "metadata": {}, 
            "outputs": [
                {
                    "output_type": "stream", 
                    "name": "stdout", 
                    "text": "[<td>M1A</td>, <td>Not assigned</td>, <td>Not assigned\n</td>, <td>M2A</td>, <td>Not assigned</td>]\n"
                }
            ], 
            "execution_count": 2
        }, 
        {
            "source": "### Loop in the tdALL and extract the data where Borough is NOT 'Not Assigned' ", 
            "cell_type": "markdown", 
            "metadata": {}
        }, 
        {
            "source": "postcode = []\nborough  = []\nneighborhood = []\nfor ii in range(0,len(tdALL)-3,3):\n    if \"Not\" not in tdALL[ii+1].text:\n        postcode.append(tdALL[ii].text)\n        borough.append(tdALL[ii+1].text)\n        neighborhood.append(tdALL[ii+2].text)        ", 
            "cell_type": "code", 
            "metadata": {}, 
            "outputs": [], 
            "execution_count": 178
        }, 
        {
            "source": "### Check what the 3 lists look like", 
            "cell_type": "markdown", 
            "metadata": {}
        }, 
        {
            "source": "print(postcode[:5])\nprint(borough[:5])\nprint(neighborhood[:5])", 
            "cell_type": "code", 
            "metadata": {}, 
            "outputs": [
                {
                    "output_type": "stream", 
                    "name": "stdout", 
                    "text": "['M3A', 'M4A', 'M5A', 'M5A', 'M6A']\n['North York', 'North York', 'Downtown Toronto', 'Downtown Toronto', 'North York']\n['Parkwoods\\n', 'Victoria Village\\n', 'Harbourfront\\n', 'Regent Park\\n', 'Lawrence Heights\\n']\n"
                }
            ], 
            "execution_count": 179
        }, 
        {
            "source": "### Use the lists just found to create a dataframe", 
            "cell_type": "markdown", 
            "metadata": {}
        }, 
        {
            "source": "# create a dataframe with PostalCode, Borough, and Neighborhood using the lists found above\nimport pandas as pd\ndf = pd.DataFrame()\ndf['PostalCode']   = postcode\ndf['Borough']      = borough\ndf['Neighborhood'] = neighborhood\n\n# strip off the '\\n' from the Neighborhood column\ndf['Neighborhood'] = df['Neighborhood'].map(lambda x: x.rstrip('\\n'))\ndf.head()", 
            "cell_type": "code", 
            "metadata": {}, 
            "outputs": [
                {
                    "output_type": "execute_result", 
                    "data": {
                        "text/plain": "  PostalCode           Borough      Neighborhood\n0        M3A        North York         Parkwoods\n1        M4A        North York  Victoria Village\n2        M5A  Downtown Toronto      Harbourfront\n3        M5A  Downtown Toronto       Regent Park\n4        M6A        North York  Lawrence Heights", 
                        "text/html": "<div>\n<style scoped>\n    .dataframe tbody tr th:only-of-type {\n        vertical-align: middle;\n    }\n\n    .dataframe tbody tr th {\n        vertical-align: top;\n    }\n\n    .dataframe thead th {\n        text-align: right;\n    }\n</style>\n<table border=\"1\" class=\"dataframe\">\n  <thead>\n    <tr style=\"text-align: right;\">\n      <th></th>\n      <th>PostalCode</th>\n      <th>Borough</th>\n      <th>Neighborhood</th>\n    </tr>\n  </thead>\n  <tbody>\n    <tr>\n      <th>0</th>\n      <td>M3A</td>\n      <td>North York</td>\n      <td>Parkwoods</td>\n    </tr>\n    <tr>\n      <th>1</th>\n      <td>M4A</td>\n      <td>North York</td>\n      <td>Victoria Village</td>\n    </tr>\n    <tr>\n      <th>2</th>\n      <td>M5A</td>\n      <td>Downtown Toronto</td>\n      <td>Harbourfront</td>\n    </tr>\n    <tr>\n      <th>3</th>\n      <td>M5A</td>\n      <td>Downtown Toronto</td>\n      <td>Regent Park</td>\n    </tr>\n    <tr>\n      <th>4</th>\n      <td>M6A</td>\n      <td>North York</td>\n      <td>Lawrence Heights</td>\n    </tr>\n  </tbody>\n</table>\n</div>"
                    }, 
                    "execution_count": 180, 
                    "metadata": {}
                }
            ], 
            "execution_count": 180
        }, 
        {
            "source": "### Shape of the dataframe", 
            "cell_type": "markdown", 
            "metadata": {}
        }, 
        {
            "source": "df.shape", 
            "cell_type": "code", 
            "metadata": {}, 
            "outputs": [
                {
                    "output_type": "execute_result", 
                    "data": {
                        "text/plain": "(212, 3)"
                    }, 
                    "execution_count": 181, 
                    "metadata": {}
                }
            ], 
            "execution_count": 181
        }, 
        {
            "source": "### Create a new dataframe, grouping by PostalCode", 
            "cell_type": "markdown", 
            "metadata": {}
        }, 
        {
            "source": "# group by PostalCode\ndf2    = df[['PostalCode','Borough','Neighborhood']].groupby('PostalCode')\n# get the arrays with the values for Boroughs and Neighborhoods, given a unique PostalCode\nl1     = df2.apply(lambda x: x['Neighborhood'].unique())\nl2     = df2.apply(lambda x: x['Borough'].unique())                                            \n# create a dictionary with the 2 lists\nd      = {'Borough':l2,'Neighborhood':l1}\ndfnew  = pd.DataFrame(d)\n# or:\n#dfnew = pd.DataFrame({k: v for k, v in d.items()})\ndfnew.reset_index(level=0, inplace=True)\ndfnew.rename(columns={'index': 'PostalCode'},inplace=True)\ndfnew.head()", 
            "cell_type": "code", 
            "metadata": {}, 
            "outputs": [
                {
                    "output_type": "execute_result", 
                    "data": {
                        "text/plain": "  PostalCode        Borough                              Neighborhood\n0        M1B  [Scarborough]                          [Rouge, Malvern]\n1        M1C  [Scarborough]  [Highland Creek, Rouge Hill, Port Union]\n2        M1E  [Scarborough]       [Guildwood, Morningside, West Hill]\n3        M1G  [Scarborough]                                  [Woburn]\n4        M1H  [Scarborough]                               [Cedarbrae]", 
                        "text/html": "<div>\n<style scoped>\n    .dataframe tbody tr th:only-of-type {\n        vertical-align: middle;\n    }\n\n    .dataframe tbody tr th {\n        vertical-align: top;\n    }\n\n    .dataframe thead th {\n        text-align: right;\n    }\n</style>\n<table border=\"1\" class=\"dataframe\">\n  <thead>\n    <tr style=\"text-align: right;\">\n      <th></th>\n      <th>PostalCode</th>\n      <th>Borough</th>\n      <th>Neighborhood</th>\n    </tr>\n  </thead>\n  <tbody>\n    <tr>\n      <th>0</th>\n      <td>M1B</td>\n      <td>[Scarborough]</td>\n      <td>[Rouge, Malvern]</td>\n    </tr>\n    <tr>\n      <th>1</th>\n      <td>M1C</td>\n      <td>[Scarborough]</td>\n      <td>[Highland Creek, Rouge Hill, Port Union]</td>\n    </tr>\n    <tr>\n      <th>2</th>\n      <td>M1E</td>\n      <td>[Scarborough]</td>\n      <td>[Guildwood, Morningside, West Hill]</td>\n    </tr>\n    <tr>\n      <th>3</th>\n      <td>M1G</td>\n      <td>[Scarborough]</td>\n      <td>[Woburn]</td>\n    </tr>\n    <tr>\n      <th>4</th>\n      <td>M1H</td>\n      <td>[Scarborough]</td>\n      <td>[Cedarbrae]</td>\n    </tr>\n  </tbody>\n</table>\n</div>"
                    }, 
                    "execution_count": 182, 
                    "metadata": {}
                }
            ], 
            "execution_count": 182
        }, 
        {
            "source": "### Shape of the new dataframe:", 
            "cell_type": "markdown", 
            "metadata": {}
        }, 
        {
            "source": "dfnew.shape", 
            "cell_type": "code", 
            "metadata": {}, 
            "outputs": [
                {
                    "output_type": "execute_result", 
                    "data": {
                        "text/plain": "(103, 3)"
                    }, 
                    "execution_count": 183, 
                    "metadata": {}
                }
            ], 
            "execution_count": 183
        }, 
        {
            "source": "# check 1 row (M5A), to see that it gives the same values as in the directions of the assignement\ndfnew.loc[dfnew['PostalCode']=='M5A']", 
            "cell_type": "code", 
            "metadata": {}, 
            "outputs": [
                {
                    "output_type": "execute_result", 
                    "data": {
                        "text/plain": "   PostalCode             Borough                 Neighborhood\n53        M5A  [Downtown Toronto]  [Harbourfront, Regent Park]", 
                        "text/html": "<div>\n<style scoped>\n    .dataframe tbody tr th:only-of-type {\n        vertical-align: middle;\n    }\n\n    .dataframe tbody tr th {\n        vertical-align: top;\n    }\n\n    .dataframe thead th {\n        text-align: right;\n    }\n</style>\n<table border=\"1\" class=\"dataframe\">\n  <thead>\n    <tr style=\"text-align: right;\">\n      <th></th>\n      <th>PostalCode</th>\n      <th>Borough</th>\n      <th>Neighborhood</th>\n    </tr>\n  </thead>\n  <tbody>\n    <tr>\n      <th>53</th>\n      <td>M5A</td>\n      <td>[Downtown Toronto]</td>\n      <td>[Harbourfront, Regent Park]</td>\n    </tr>\n  </tbody>\n</table>\n</div>"
                    }, 
                    "execution_count": 184, 
                    "metadata": {}
                }
            ], 
            "execution_count": 184
        }, 
        {
            "source": "", 
            "cell_type": "code", 
            "metadata": {}, 
            "outputs": [], 
            "execution_count": null
        }, 
        {
            "source": "", 
            "cell_type": "code", 
            "metadata": {}, 
            "outputs": [], 
            "execution_count": null
        }
    ], 
    "metadata": {
        "kernelspec": {
            "display_name": "Python 3.5", 
            "name": "python3", 
            "language": "python"
        }, 
        "language_info": {
            "mimetype": "text/x-python", 
            "nbconvert_exporter": "python", 
            "version": "3.5.5", 
            "name": "python", 
            "pygments_lexer": "ipython3", 
            "file_extension": ".py", 
            "codemirror_mode": {
                "version": 3, 
                "name": "ipython"
            }
        }
    }, 
    "nbformat": 4
}