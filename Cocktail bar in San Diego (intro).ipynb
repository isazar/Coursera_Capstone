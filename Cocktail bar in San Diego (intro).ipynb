{
    "nbformat_minor": 1, 
    "cells": [
        {
            "source": "# Opening a new cocktail bar in the city of San Diego", 
            "cell_type": "markdown", 
            "metadata": {
                "collapsed": true
            }
        }, 
        {
            "source": "## 1 Introduction\n", 
            "cell_type": "markdown", 
            "metadata": {}
        }, 
        {
            "source": "Located in the sunny Pacific Coast, south of Los Angeles and at the border with Mexico, San Diego is the second largest city in California, reaching a population of more than 1,4 million of people. The main economy in San Diego is strictly linked to military activity (mainly Navy) and tourism, however its growth is not only directly connected to these activities, but it is also ruled by the research institutions, such as the University of California San Diego, the Scripps Institution of Oceanography, Illumina, and General Atomics (just to mention some), and by telecommunications companies (such as Qualcomm Inc.). With its gorgeous beaches and canyons, and one of the best climate in the US, the city attracts a large flow of tourism year-round. In total., San Diego counts more than 100 identified neighborhoods, where restaurants, hotels, cafe', and bars are in large number. \n\nThe analysis presented in this report aims to find potential neighborhoods to open a new cocktail bar. The stakeholders are a mid-thirties couple, who would like to invest in a small cocktail bar, in an area of San Diego that would have a residential-kind of look, rather than a crowded touristic place. Therefore, with the aim to open a new activity with these characteristics, we must identify 1) areas that are more residential, rather than touristic and 2) the density of the present restaurants and cocktail bars in those specific areas. ", 
            "cell_type": "markdown", 
            "metadata": {}
        }
    ], 
    "metadata": {
        "kernelspec": {
            "display_name": "Python 3.5", 
            "name": "python3", 
            "language": "python"
        }, 
        "language_info": {
            "mimetype": "text/x-python", 
            "nbconvert_exporter": "python", 
            "version": "3.5.5", 
            "name": "python", 
            "file_extension": ".py", 
            "pygments_lexer": "ipython3", 
            "codemirror_mode": {
                "version": 3, 
                "name": "ipython"
            }
        }
    }, 
    "nbformat": 4
}
