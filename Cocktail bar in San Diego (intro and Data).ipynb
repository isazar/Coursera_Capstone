{
    "nbformat_minor": 1, 
    "cells": [
        {
            "source": "# Opening a new cocktail bar in the city of San Diego", 
            "cell_type": "markdown", 
            "metadata": {
                "collapsed": true
            }
        }, 
        {
            "source": "## 1 Introduction\n", 
            "cell_type": "markdown", 
            "metadata": {}
        }, 
        {
            "source": "Located in the sunny Pacific Coast, south of Los Angeles and at the border with Mexico, San Diego is the second largest city in California, reaching a population of more than 1,4 million of people$^1$. The main economy in San Diego is strictly linked to military activity (mainly Navy) and tourism, however its growth is not only directly connected to these activities, but it is also ruled by the research institutions, such as the University of California San Diego, the Scripps Institution of Oceanography, Illumina, and General Atomics (just to mention some), and by telecommunications companies (such as Qualcomm Inc.)$^3$. With its gorgeous beaches and canyons, and one of the best climate$^2$ in the US, the city attracts a large flow of tourism year-round. In total., San Diego counts more than 100 identified neighborhoods$^4$, where restaurants, hotels, caf\\'e, and bars are in large number. \n\nThe analysis presented in this report aims to find potential neighborhoods to open a new cocktail bar. The stakeholders are a mid-thirties couple, who would like to invest in a small cocktail bar, in an area of San Diego that would have a residential-kind of look, rather than a crowded touristic place. Therefore, with the aim to open a new activity with these characteristics, we must identify 1) areas that are more residential, rather than touristic and 2) the density of the present restaurants and cocktail bars in those specific areas. ", 
            "cell_type": "markdown", 
            "metadata": {}
        }, 
        {
            "source": "## 2 Data", 
            "cell_type": "markdown", 
            "metadata": {}
        }, 
        {
            "source": "The analysis will be based on a collection of data from:\n\t* the list of neighborhoods of San Diego from the Wikipedia page https://en.wikipedia.org/wiki/List_of_communities_and_neighborhoods_of_San_Diego\n\t* the coordinates (longitude, latitude) of each neighborhood, which are extracted using the geopy.geocoders library of python\n\t* the list of the most common venues in each neighborhood, based on Forsquare API.\n", 
            "cell_type": "markdown", 
            "metadata": {}
        }
    ], 
    "metadata": {
        "kernelspec": {
            "display_name": "Python 3.5", 
            "name": "python3", 
            "language": "python"
        }, 
        "language_info": {
            "mimetype": "text/x-python", 
            "nbconvert_exporter": "python", 
            "version": "3.5.5", 
            "name": "python", 
            "file_extension": ".py", 
            "pygments_lexer": "ipython3", 
            "codemirror_mode": {
                "version": 3, 
                "name": "ipython"
            }
        }
    }, 
    "nbformat": 4
}