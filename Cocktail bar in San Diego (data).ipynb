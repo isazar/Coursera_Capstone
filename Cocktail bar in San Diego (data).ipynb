{
    "nbformat_minor": 1, 
    "cells": [
        {
            "source": "# Opening a new cocktail bar in the city of San Diego", 
            "cell_type": "markdown", 
            "metadata": {
                "collapsed": true
            }
        }, 
        {
            "source": "## Data", 
            "cell_type": "markdown", 
            "metadata": {}
        }, 
        {
            "source": "The analysis will be based on a collection of data from:\n\t* the list of neighborhoods of San Diego from the Wikipedia page https://en.wikipedia.org/wiki/List_of_communities_and_neighborhoods_of_San_Diego\n\t* the coordinates (longitude, latitude) of each neighborhood, which are extracted using the geopy.geocoders library of python\n\t* the list of the most common venues in each neighborhood, based on Forsquare API.\n", 
            "cell_type": "markdown", 
            "metadata": {}
        }
    ], 
    "metadata": {
        "kernelspec": {
            "display_name": "Python 3.5", 
            "name": "python3", 
            "language": "python"
        }, 
        "language_info": {
            "mimetype": "text/x-python", 
            "nbconvert_exporter": "python", 
            "version": "3.5.5", 
            "name": "python", 
            "file_extension": ".py", 
            "pygments_lexer": "ipython3", 
            "codemirror_mode": {
                "version": 3, 
                "name": "ipython"
            }
        }
    }, 
    "nbformat": 4
}