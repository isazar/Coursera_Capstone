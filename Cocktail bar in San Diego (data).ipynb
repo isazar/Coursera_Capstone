{
    "nbformat_minor": 1, 
    "cells": [
        {
            "source": "# Opening a new cocktail bar in the city of San Diego", 
            "cell_type": "markdown", 
            "metadata": {
                "collapsed": true
            }
        }, 
        {
            "source": "## Data", 
            "cell_type": "markdown", 
            "metadata": {}
        }, 
        {
            "source": "The data is extracted from a series of tools. First, the list of neighborhoods of San Diego, such as Pacific Beach, North Park or Hillcrest, can be take from the Wikipedia page https://en.wikipedia.org/wiki/List_of_communities_and_neighborhoods_of_San_Diego. This neighborhoods are given as a list, embedded in a table in the html code, such as the following:\n\n        ...'<a href=\"/wiki/Del_Mar_Mesa,_San_Diego\" title=\"Del Mar Mesa, San Diego\">Del Mar Mesa</a>',\n        '<a href=\"/wiki/Downtown_San_Diego\" title=\"Downtown San Diego\">Downtown San Diego (Centre City)</a>',\n        '<a href=\"/wiki/Columbia,_San_Diego\" title=\"Columbia, San Diego\">Columbia</a>',\n        '<a href=\"/wiki/Core,_San_Diego\" title=\"Core, San Diego\">Core</a>',...\n       \n\t\nI will then get the coordinates (longitude, latitude) of each neighborhood, using the geopy.geocoders library of python. For example:\n\n| Neighborhood | Latitude   | Longitude |\n|--------------|------------|-----------|\n| Balboa Park  | 32.73      | -117.15   |\n| Barrio Logan | 32.69      | -117.14   |\n\nThe list of the most common venues, which is the base of the analysis presented in the following sections, is extracted using _Forsquare API_ using the coordinates of each neighborhood. Specifically, I send API requests using the url: url = https://api.foursquare.com/v2/venues/explore?&client_id={}&client_secret={}&v={}&ll={},{}&radius={}&limit={}, where the client ID and secret are personal Foresquare data, v and ll are the latitude and longitude, respectively, of the neighborhood, radius is 500 m and limit is 100 venues. After the request, I get data such as:\n\n|Neighborhood \t| Neighborhood Latitude |\tNeighborhood Longitude |\tVenue \t                        |\n|---------------|-----------------------|--------------------------|------------------------------------|\n|Balboa Park \t| 32.731357 \t        |    -117.146527 \t       | San Diego Natural History Museum \t|\n|Balboa Park \t| 32.731357 \t        |    -117.146527 \t       | San Diego Model Railroad Museum \t|\n", 
            "cell_type": "markdown", 
            "metadata": {}
        }
    ], 
    "metadata": {
        "kernelspec": {
            "display_name": "Python 3.5", 
            "name": "python3", 
            "language": "python"
        }, 
        "language_info": {
            "mimetype": "text/x-python", 
            "nbconvert_exporter": "python", 
            "version": "3.5.5", 
            "name": "python", 
            "file_extension": ".py", 
            "pygments_lexer": "ipython3", 
            "codemirror_mode": {
                "version": 3, 
                "name": "ipython"
            }
        }
    }, 
    "nbformat": 4
}