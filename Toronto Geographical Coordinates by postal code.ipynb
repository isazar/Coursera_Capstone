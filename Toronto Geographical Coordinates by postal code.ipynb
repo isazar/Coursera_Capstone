{
    "nbformat_minor": 1, 
    "cells": [
        {
            "execution_count": null, 
            "cell_type": "code", 
            "metadata": {}, 
            "outputs": [], 
            "source": "# The code was removed by Watson Studio for sharing."
        }, 
        {
            "source": "# Geographical Coordinates of the Neighborhoods of Toronto", 
            "cell_type": "markdown", 
            "metadata": {
                "collapsed": true
            }
        }, 
        {
            "source": "The data are on a Wikipedia table, at https://en.wikipedia.org/wiki/List_of_postal_codes_of_Canada:_M\n\nWeb scraping --> I will use the Beautiful Soup library to get the data from the table.\n\n_NOTE: the first part is the same as the \"Segmentation and Clustering of the Neighborhoods of Toronto\" Notebook_", 
            "cell_type": "markdown", 
            "metadata": {}
        }, 
        {
            "execution_count": 1, 
            "cell_type": "code", 
            "metadata": {}, 
            "outputs": [], 
            "source": "# import the request library\nimport requests\nfrom bs4 import BeautifulSoup\n\nurl = 'https://en.wikipedia.org/wiki/List_of_postal_codes_of_Canada:_M'\nwebsite_url = requests.get(url).text\n\n# Prettify() function in BeautifulSoup will enable us to view how the tags are nested in the document\nsoup = BeautifulSoup(website_url,'lxml')"
        }, 
        {
            "source": "### Extract the table using the soup.find. Then, extract all the <td> ... </td> which contain the postcodes, boroughs and neighborhoods", 
            "cell_type": "markdown", 
            "metadata": {}
        }, 
        {
            "execution_count": 2, 
            "cell_type": "code", 
            "metadata": {}, 
            "outputs": [], 
            "source": "# extract the table\nmytable = soup.find('table',{'class':'wikitable sortable'})\n# extract the rows that start with <td>\ntdALL   = mytable.find_all('td')"
        }, 
        {
            "source": "### Loop in the tdALL and extract the data that don't have the 'Not Assigned' in the Borough column", 
            "cell_type": "markdown", 
            "metadata": {}
        }, 
        {
            "execution_count": 46, 
            "cell_type": "code", 
            "metadata": {}, 
            "outputs": [], 
            "source": "postcode = []\nborough  = []\nneighborhood = []\nfor ii in range(0,len(tdALL)-3,3):\n    if \"Not\" not in tdALL[ii+1].text:\n        postcode.append(tdALL[ii].text)\n        borough.append(tdALL[ii+1].text)\n        neighborhood.append(tdALL[ii+2].text)        "
        }, 
        {
            "source": "### Use the lists just found to create a dataframe", 
            "cell_type": "markdown", 
            "metadata": {}
        }, 
        {
            "execution_count": 47, 
            "cell_type": "code", 
            "metadata": {}, 
            "outputs": [
                {
                    "execution_count": 47, 
                    "metadata": {}, 
                    "data": {
                        "text/html": "<div>\n<style scoped>\n    .dataframe tbody tr th:only-of-type {\n        vertical-align: middle;\n    }\n\n    .dataframe tbody tr th {\n        vertical-align: top;\n    }\n\n    .dataframe thead th {\n        text-align: right;\n    }\n</style>\n<table border=\"1\" class=\"dataframe\">\n  <thead>\n    <tr style=\"text-align: right;\">\n      <th></th>\n      <th>PostalCode</th>\n      <th>Borough</th>\n      <th>Neighborhood</th>\n    </tr>\n  </thead>\n  <tbody>\n    <tr>\n      <th>0</th>\n      <td>M3A</td>\n      <td>North York</td>\n      <td>Parkwoods</td>\n    </tr>\n    <tr>\n      <th>1</th>\n      <td>M4A</td>\n      <td>North York</td>\n      <td>Victoria Village</td>\n    </tr>\n    <tr>\n      <th>2</th>\n      <td>M5A</td>\n      <td>Downtown Toronto</td>\n      <td>Harbourfront</td>\n    </tr>\n    <tr>\n      <th>3</th>\n      <td>M5A</td>\n      <td>Downtown Toronto</td>\n      <td>Regent Park</td>\n    </tr>\n    <tr>\n      <th>4</th>\n      <td>M6A</td>\n      <td>North York</td>\n      <td>Lawrence Heights</td>\n    </tr>\n  </tbody>\n</table>\n</div>", 
                        "text/plain": "  PostalCode           Borough      Neighborhood\n0        M3A        North York         Parkwoods\n1        M4A        North York  Victoria Village\n2        M5A  Downtown Toronto      Harbourfront\n3        M5A  Downtown Toronto       Regent Park\n4        M6A        North York  Lawrence Heights"
                    }, 
                    "output_type": "execute_result"
                }
            ], 
            "source": "# create a dataframe with PostalCode, Borough, and Neighborhood using the lists found above\nimport pandas as pd\ndf = pd.DataFrame()\ndf['PostalCode']   = postcode\ndf['Borough']      = borough\ndf['Neighborhood'] = neighborhood\n\n# strip off the '\\n' from the Neighborhood column\ndf['Neighborhood'] = df['Neighborhood'].map(lambda x: x.rstrip('\\n'))\ndf.head()"
        }, 
        {
            "source": "### Shape of the dataframe", 
            "cell_type": "markdown", 
            "metadata": {}
        }, 
        {
            "execution_count": 48, 
            "cell_type": "code", 
            "metadata": {}, 
            "outputs": [
                {
                    "execution_count": 48, 
                    "metadata": {}, 
                    "data": {
                        "text/plain": "(212, 3)"
                    }, 
                    "output_type": "execute_result"
                }
            ], 
            "source": "df.shape"
        }, 
        {
            "source": "### Create a new dataframe, grouping by PostalCode", 
            "cell_type": "markdown", 
            "metadata": {}
        }, 
        {
            "execution_count": 50, 
            "cell_type": "code", 
            "metadata": {}, 
            "outputs": [
                {
                    "execution_count": 50, 
                    "metadata": {}, 
                    "data": {
                        "text/html": "<div>\n<style scoped>\n    .dataframe tbody tr th:only-of-type {\n        vertical-align: middle;\n    }\n\n    .dataframe tbody tr th {\n        vertical-align: top;\n    }\n\n    .dataframe thead th {\n        text-align: right;\n    }\n</style>\n<table border=\"1\" class=\"dataframe\">\n  <thead>\n    <tr style=\"text-align: right;\">\n      <th></th>\n      <th>PostalCode</th>\n      <th>Borough</th>\n      <th>Neighborhood</th>\n    </tr>\n  </thead>\n  <tbody>\n    <tr>\n      <th>0</th>\n      <td>M1B</td>\n      <td>[Scarborough]</td>\n      <td>[Rouge, Malvern]</td>\n    </tr>\n    <tr>\n      <th>1</th>\n      <td>M1C</td>\n      <td>[Scarborough]</td>\n      <td>[Highland Creek, Rouge Hill, Port Union]</td>\n    </tr>\n    <tr>\n      <th>2</th>\n      <td>M1E</td>\n      <td>[Scarborough]</td>\n      <td>[Guildwood, Morningside, West Hill]</td>\n    </tr>\n    <tr>\n      <th>3</th>\n      <td>M1G</td>\n      <td>[Scarborough]</td>\n      <td>[Woburn]</td>\n    </tr>\n    <tr>\n      <th>4</th>\n      <td>M1H</td>\n      <td>[Scarborough]</td>\n      <td>[Cedarbrae]</td>\n    </tr>\n  </tbody>\n</table>\n</div>", 
                        "text/plain": "  PostalCode        Borough                              Neighborhood\n0        M1B  [Scarborough]                          [Rouge, Malvern]\n1        M1C  [Scarborough]  [Highland Creek, Rouge Hill, Port Union]\n2        M1E  [Scarborough]       [Guildwood, Morningside, West Hill]\n3        M1G  [Scarborough]                                  [Woburn]\n4        M1H  [Scarborough]                               [Cedarbrae]"
                    }, 
                    "output_type": "execute_result"
                }
            ], 
            "source": "# group by PostalCode\ndf2    = df[['PostalCode','Borough','Neighborhood']].groupby('PostalCode')\n# get the arrays with the values for Boroughs and Neighborhoods, given a unique PostalCode\nl1     = df2.apply(lambda x: x['Neighborhood'].unique())\nl2     = df2.apply(lambda x: x['Borough'].unique())                                            \n# create a dictionary with the 2 lists\nd      = {'Borough':l2,'Neighborhood':l1}\ndfnew  = pd.DataFrame(d)\n# or:\n#dfnew = pd.DataFrame({k: v for k, v in d.items()})\ndfnew.reset_index(level=0, inplace=True)\ndfnew.rename(columns={'index': 'PostalCode'},inplace=True)\ndfnew.head()"
        }, 
        {
            "source": "### Import Geocoder: library used to extract the longitude and latitude for any given postal code", 
            "cell_type": "markdown", 
            "metadata": {}
        }, 
        {
            "execution_count": 7, 
            "cell_type": "code", 
            "metadata": {}, 
            "outputs": [
                {
                    "output_type": "stream", 
                    "name": "stdout", 
                    "text": "Fetching package metadata .............\nSolving package specifications: .\n\nPackage plan for installation in environment /opt/conda/envs/DSX-Python35:\n\nThe following NEW packages will be INSTALLED:\n\n    geocoder:   1.38.1-py_0  conda-forge\n    orderedset: 2.0-py35_0   conda-forge\n    ratelim:    0.1.6-py35_0 conda-forge\n\norderedset-2.0 100% |################################| Time: 0:00:00  37.30 MB/s\nratelim-0.1.6- 100% |################################| Time: 0:00:00   6.69 MB/s\ngeocoder-1.38. 100% |################################| Time: 0:00:00  22.49 MB/s\n"
                }
            ], 
            "source": "# Intall the library using Andaconda:\n#!conda install -c conda-forge geocoder "
        }, 
        {
            "execution_count": 8, 
            "cell_type": "code", 
            "metadata": {}, 
            "outputs": [], 
            "source": "# import the library:\nimport geocoder "
        }, 
        {
            "source": "### Use geocoder to get the coordinates of the postal codes", 
            "cell_type": "markdown", 
            "metadata": {}
        }, 
        {
            "execution_count": 15, 
            "cell_type": "code", 
            "metadata": {}, 
            "outputs": [
                {
                    "execution_count": 15, 
                    "metadata": {}, 
                    "data": {
                        "text/html": "<div>\n<style scoped>\n    .dataframe tbody tr th:only-of-type {\n        vertical-align: middle;\n    }\n\n    .dataframe tbody tr th {\n        vertical-align: top;\n    }\n\n    .dataframe thead th {\n        text-align: right;\n    }\n</style>\n<table border=\"1\" class=\"dataframe\">\n  <thead>\n    <tr style=\"text-align: right;\">\n      <th></th>\n      <th>PostalCode</th>\n      <th>Borough</th>\n      <th>Neighborhood</th>\n      <th>Latitude</th>\n      <th>Longitude</th>\n    </tr>\n  </thead>\n  <tbody>\n    <tr>\n      <th>0</th>\n      <td>M1B</td>\n      <td>[Scarborough]</td>\n      <td>[Rouge, Malvern]</td>\n      <td>NaN</td>\n      <td>NaN</td>\n    </tr>\n    <tr>\n      <th>1</th>\n      <td>M1C</td>\n      <td>[Scarborough]</td>\n      <td>[Highland Creek, Rouge Hill, Port Union]</td>\n      <td>NaN</td>\n      <td>NaN</td>\n    </tr>\n    <tr>\n      <th>2</th>\n      <td>M1E</td>\n      <td>[Scarborough]</td>\n      <td>[Guildwood, Morningside, West Hill]</td>\n      <td>NaN</td>\n      <td>NaN</td>\n    </tr>\n    <tr>\n      <th>3</th>\n      <td>M1G</td>\n      <td>[Scarborough]</td>\n      <td>[Woburn]</td>\n      <td>NaN</td>\n      <td>NaN</td>\n    </tr>\n    <tr>\n      <th>4</th>\n      <td>M1H</td>\n      <td>[Scarborough]</td>\n      <td>[Cedarbrae]</td>\n      <td>NaN</td>\n      <td>NaN</td>\n    </tr>\n  </tbody>\n</table>\n</div>", 
                        "text/plain": "  PostalCode        Borough                              Neighborhood  \\\n0        M1B  [Scarborough]                          [Rouge, Malvern]   \n1        M1C  [Scarborough]  [Highland Creek, Rouge Hill, Port Union]   \n2        M1E  [Scarborough]       [Guildwood, Morningside, West Hill]   \n3        M1G  [Scarborough]                                  [Woburn]   \n4        M1H  [Scarborough]                               [Cedarbrae]   \n\n   Latitude  Longitude  \n0       NaN        NaN  \n1       NaN        NaN  \n2       NaN        NaN  \n3       NaN        NaN  \n4       NaN        NaN  "
                    }, 
                    "output_type": "execute_result"
                }
            ], 
            "source": "# Create 2 new columns in the dfnew dataframe, which will be filled with the longitudes and latitudes\nimport numpy as np\ndfnew[\"Latitude\"] = np.nan\ndfnew[\"Longitude\"] = np.nan\n\ndfnew.head()"
        }, 
        {
            "source": "#### I tried to use the geocoder in the following loop and save the values in the new columns of the dfnew dataframe, but it was taking too long, so I am importing the coordinates from the csv file provided (see below)\nfor postal_code in dfnew['PostalCode']:\n    # initialize the variable to None\n    lat_lng_coords = None\n\n    # loop until getting the coordinates (the library might not give the coordinates the first time it's run...)\n    while(lat_lng_coords is None):\n      g = geocoder.google('{}, Toronto, Ontario'.format(postal_code))\n      lat_lng_coords = g.latlng\n\n    # insert the coordinates at the postal_code row\n    dfnew.loc[dfnew['PostalCode']==postal_code, 'Latitude']  = lat_lng_coords[0]\n    dfnew.loc[dfnew['PostalCode']==postal_code, 'Longitude'] = lat_lng_coords[1]\n", 
            "cell_type": "markdown", 
            "metadata": {}
        }, 
        {
            "execution_count": 52, 
            "cell_type": "code", 
            "metadata": {}, 
            "outputs": [], 
            "source": "# The code was removed by Watson Studio for sharing."
        }, 
        {
            "execution_count": 35, 
            "cell_type": "code", 
            "metadata": {}, 
            "outputs": [], 
            "source": "# I'm going to use the provided table that has already the coordinates for each postal code\n# First, I need to import the project_lib, so that I can access my file in the Data Asset\nfrom project_lib import Project\nproject = Project(None,projectID,projectToken)"
        }, 
        {
            "execution_count": 53, 
            "cell_type": "code", 
            "metadata": {}, 
            "outputs": [
                {
                    "execution_count": 53, 
                    "metadata": {}, 
                    "data": {
                        "text/html": "<div>\n<style scoped>\n    .dataframe tbody tr th:only-of-type {\n        vertical-align: middle;\n    }\n\n    .dataframe tbody tr th {\n        vertical-align: top;\n    }\n\n    .dataframe thead th {\n        text-align: right;\n    }\n</style>\n<table border=\"1\" class=\"dataframe\">\n  <thead>\n    <tr style=\"text-align: right;\">\n      <th></th>\n      <th>Postal Code</th>\n      <th>Latitude</th>\n      <th>Longitude</th>\n    </tr>\n  </thead>\n  <tbody>\n    <tr>\n      <th>0</th>\n      <td>M1B</td>\n      <td>43.806686</td>\n      <td>-79.194353</td>\n    </tr>\n    <tr>\n      <th>1</th>\n      <td>M1C</td>\n      <td>43.784535</td>\n      <td>-79.160497</td>\n    </tr>\n    <tr>\n      <th>2</th>\n      <td>M1E</td>\n      <td>43.763573</td>\n      <td>-79.188711</td>\n    </tr>\n    <tr>\n      <th>3</th>\n      <td>M1G</td>\n      <td>43.770992</td>\n      <td>-79.216917</td>\n    </tr>\n    <tr>\n      <th>4</th>\n      <td>M1H</td>\n      <td>43.773136</td>\n      <td>-79.239476</td>\n    </tr>\n  </tbody>\n</table>\n</div>", 
                        "text/plain": "  Postal Code   Latitude  Longitude\n0         M1B  43.806686 -79.194353\n1         M1C  43.784535 -79.160497\n2         M1E  43.763573 -79.188711\n3         M1G  43.770992 -79.216917\n4         M1H  43.773136 -79.239476"
                    }, 
                    "output_type": "execute_result"
                }
            ], 
            "source": "df_coords = pd.read_csv(project.get_file('Geospatial_Coordinates.csv'))\ndf_coords.head()"
        }, 
        {
            "execution_count": 54, 
            "cell_type": "code", 
            "metadata": {}, 
            "outputs": [
                {
                    "output_type": "stream", 
                    "name": "stdout", 
                    "text": "Shape of df_coords: \t (103, 3)\nShape of dfnew: \t (103, 3)\n"
                }
            ], 
            "source": "print('Shape of df_coords: \\t',df_coords.shape)\nprint('Shape of dfnew: \\t',dfnew.shape)"
        }, 
        {
            "source": "#### Fill the Lat and Lon columns in dfnew with values from df_coords, using the postal code as a key ", 
            "cell_type": "markdown", 
            "metadata": {}
        }, 
        {
            "execution_count": 56, 
            "cell_type": "code", 
            "metadata": {}, 
            "outputs": [], 
            "source": "for postal_code in dfnew['PostalCode']:\n    latitude  = df_coords.loc[df_coords['Postal Code']==postal_code]['Latitude']\n    longitude = df_coords.loc[df_coords['Postal Code']==postal_code]['Longitude']\n    dfnew.loc[dfnew['PostalCode']==postal_code, 'Latitude']  = latitude\n    dfnew.loc[dfnew['PostalCode']==postal_code, 'Longitude'] = longitude"
        }, 
        {
            "execution_count": 57, 
            "cell_type": "code", 
            "metadata": {}, 
            "outputs": [
                {
                    "execution_count": 57, 
                    "metadata": {}, 
                    "data": {
                        "text/html": "<div>\n<style scoped>\n    .dataframe tbody tr th:only-of-type {\n        vertical-align: middle;\n    }\n\n    .dataframe tbody tr th {\n        vertical-align: top;\n    }\n\n    .dataframe thead th {\n        text-align: right;\n    }\n</style>\n<table border=\"1\" class=\"dataframe\">\n  <thead>\n    <tr style=\"text-align: right;\">\n      <th></th>\n      <th>PostalCode</th>\n      <th>Borough</th>\n      <th>Neighborhood</th>\n      <th>Latitude</th>\n      <th>Longitude</th>\n    </tr>\n  </thead>\n  <tbody>\n    <tr>\n      <th>0</th>\n      <td>M1B</td>\n      <td>[Scarborough]</td>\n      <td>[Rouge, Malvern]</td>\n      <td>43.806686</td>\n      <td>-79.194353</td>\n    </tr>\n    <tr>\n      <th>1</th>\n      <td>M1C</td>\n      <td>[Scarborough]</td>\n      <td>[Highland Creek, Rouge Hill, Port Union]</td>\n      <td>43.784535</td>\n      <td>-79.160497</td>\n    </tr>\n    <tr>\n      <th>2</th>\n      <td>M1E</td>\n      <td>[Scarborough]</td>\n      <td>[Guildwood, Morningside, West Hill]</td>\n      <td>43.763573</td>\n      <td>-79.188711</td>\n    </tr>\n    <tr>\n      <th>3</th>\n      <td>M1G</td>\n      <td>[Scarborough]</td>\n      <td>[Woburn]</td>\n      <td>43.770992</td>\n      <td>-79.216917</td>\n    </tr>\n    <tr>\n      <th>4</th>\n      <td>M1H</td>\n      <td>[Scarborough]</td>\n      <td>[Cedarbrae]</td>\n      <td>43.773136</td>\n      <td>-79.239476</td>\n    </tr>\n  </tbody>\n</table>\n</div>", 
                        "text/plain": "  PostalCode        Borough                              Neighborhood  \\\n0        M1B  [Scarborough]                          [Rouge, Malvern]   \n1        M1C  [Scarborough]  [Highland Creek, Rouge Hill, Port Union]   \n2        M1E  [Scarborough]       [Guildwood, Morningside, West Hill]   \n3        M1G  [Scarborough]                                  [Woburn]   \n4        M1H  [Scarborough]                               [Cedarbrae]   \n\n    Latitude  Longitude  \n0  43.806686 -79.194353  \n1  43.784535 -79.160497  \n2  43.763573 -79.188711  \n3  43.770992 -79.216917  \n4  43.773136 -79.239476  "
                    }, 
                    "output_type": "execute_result"
                }
            ], 
            "source": "dfnew.head()"
        }
    ], 
    "metadata": {
        "kernelspec": {
            "display_name": "Python 3.5", 
            "name": "python3", 
            "language": "python"
        }, 
        "language_info": {
            "mimetype": "text/x-python", 
            "nbconvert_exporter": "python", 
            "version": "3.5.5", 
            "name": "python", 
            "file_extension": ".py", 
            "pygments_lexer": "ipython3", 
            "codemirror_mode": {
                "version": 3, 
                "name": "ipython"
            }
        }
    }, 
    "nbformat": 4
}